{
  "nbformat": 4,
  "nbformat_minor": 0,
  "metadata": {
    "colab": {
      "provenance": []
    },
    "kernelspec": {
      "name": "python3",
      "display_name": "Python 3"
    },
    "language_info": {
      "name": "python"
    }
  },
  "cells": [
    {
      "cell_type": "code",
      "execution_count": null,
      "metadata": {
        "id": "Xzrxi0SPncvS"
      },
      "outputs": [],
      "source": [
        "#Robert Le Blanc\n",
        "#1/21/24\n",
        "#Quantitative data deals with numbers and mesurable data. Quantitative is usually used to tell us how much or how often something is used. While Qualitative is interpretation based. It tells us who, why, or when.\n",
        "#Casting is turning one kind of data intoanother type of data. One exaple of using it would be in math.\n",
        "#Precision is the number of digits in a number. Scale is the number of digits to the right of the decimal point in a number. 10.654 (presision 5, Scale 3)."
      ]
    },
    {
      "cell_type": "code",
      "source": [
        "#Problem 1\n",
        "name= \"Bob Smith\"\n",
        "email= \"bob.smith@gmail.com\"\n",
        "print(name)\n",
        "print(email)"
      ],
      "metadata": {
        "id": "jqtW0p8Kho-H"
      },
      "execution_count": null,
      "outputs": []
    },
    {
      "cell_type": "code",
      "source": [
        "#Problem 2\n",
        "x=100\n",
        "y=15\n",
        "print(\"Result of x times y\", x*y)\n",
        "print(\"Data type of the result of x times y:\", type(x*y))\n",
        "print(\"Result of x divided by y:\", x/y)\n",
        "print(\"Data type of the result of x divided by y:\", type(x/y))\n",
        "\n"
      ],
      "metadata": {
        "id": "1aZ0K-yAi8gS"
      },
      "execution_count": null,
      "outputs": []
    },
    {
      "cell_type": "code",
      "source": [
        "#Problem 3\n",
        "x= int(input(\"Enter an integer for x: \"))\n",
        "y= int(input(\"Enter an integer for y: \"))\n",
        "print(\"Result of x times y:\", x*y)\n",
        "print(\"Data typeof the result of x times y:\", type(x*y))\n",
        "print(\"Result of x divided by y:\", x/y)\n",
        "print(\"Data type of the result of x divided by y:\", type(x/y))"
      ],
      "metadata": {
        "id": "___YjpoQkxPd"
      },
      "execution_count": null,
      "outputs": []
    },
    {
      "cell_type": "markdown",
      "source": [
        "The value of Row 2 for \"a or b\" is True because at least one of the variables a or b is True.\n",
        "\n",
        "The value of Row 4 for \"a and (a or b)\" is False because in this case, a is False, and the expression \"a or b\" evaluates to True since b is True. Since a is False, the overall result is False.\n",
        "\n",
        "The value of Row 3 for \"not a\" is True because the \"not\" operator negates the value of a, which is False in Row 3, resulting in True."
      ],
      "metadata": {
        "id": "LvCcMdc0GF6a"
      }
    },
    {
      "cell_type": "code",
      "source": [
        "#Problem 5\n",
        "university_name = \"University of Utah\"\n",
        "parsed_characters = university_name[14] + university_name[8] + university_name[4] + university_name[6]\n",
        "print(parsed_characters + \"!\", end=\"\")"
      ],
      "metadata": {
        "colab": {
          "base_uri": "https://localhost:8080/"
        },
        "id": "3f3Yqu6sHOse",
        "outputId": "9aa5df3d-23f4-4da4-c100-c29b37804a18"
      },
      "execution_count": null,
      "outputs": [
        {
          "output_type": "stream",
          "name": "stdout",
          "text": [
            "Utes!"
          ]
        }
      ]
    },
    {
      "cell_type": "code",
      "source": [
        "hamlet_quote = \"To be, or not to be, that is the question: Whether 'tis nobler in the mind to suffer The slings and arrows of outrageous fortune, Or to take arms against a sea of troubles And by opposing end them.\"\n",
        "parsed_phrase = hamlet_quote[-25] + hamlet_quote[2] + hamlet_quote[8] + hamlet_quote[4] + hamlet_quote[3] + hamlet_quote[4] + hamlet_quote[59] + hamlet_quote[51] + hamlet_quote[27] + hamlet_quote[2] + hamlet_quote[12] + hamlet_quote[22] + hamlet_quote[1] + hamlet_quote[8] + hamlet_quote[10] + hamlet_quote[-1]\n",
        "print(parsed_phrase)"
      ],
      "metadata": {
        "colab": {
          "base_uri": "https://localhost:8080/"
        },
        "id": "5LaBoHyTJJLA",
        "outputId": "f99e4889-bdd2-4104-f3e1-e5bcdab515c5"
      },
      "execution_count": null,
      "outputs": [
        {
          "output_type": "stream",
          "name": "stdout",
          "text": [
            "A rebel's thorn.\n"
          ]
        }
      ]
    }
  ]
}