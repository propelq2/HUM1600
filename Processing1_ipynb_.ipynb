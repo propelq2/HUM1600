{
  "nbformat": 4,
  "nbformat_minor": 0,
  "metadata": {
    "colab": {
      "provenance": []
    },
    "kernelspec": {
      "name": "python3",
      "display_name": "Python 3"
    },
    "language_info": {
      "name": "python"
    }
  },
  "cells": [
    {
      "cell_type": "code",
      "execution_count": null,
      "metadata": {
        "id": "25J5uDW9mset"
      },
      "outputs": [],
      "source": [
        "#Robert Le Blanc\n",
        "#3/27/24\n",
        "\n",
        "# What is the difference between an if decision and an if-else decision?\n",
        "# An if decision is a conditional statement that executes a block of code if the condition evaluates to True.\n",
        "# An if-else decision is a conditional statement that executes one block of code if the condition evaluates to True and another block if it evaluates to False.\n",
        "\n",
        "# In the context of Python programming decisions and repetition, describe a \"condition\", that is, what is a condition and how does it allow us to control the outcome of decisions and repetition?.\n",
        "# A condition in Python is an expression that evaluates to either True or False. It allows us to control the flow of a program by determining which block of code should be executed based on whether the condition is True or False.\n",
        "\n",
        "# Describe the key differences between a for loop and a while loop in Python.\n",
        "# A for loop is used for iterating over a sequence (such as a list, tuple, string, or range) or other iterable objects, executing a block of code for each element in the sequence.\n",
        "# A while loop is used to repeatedly execute a block of code as long as the condition specified evaluates to True. It does not require an explicit iterable object and is more flexible in terms of loop control.\n"
      ]
    },
    {
      "cell_type": "code",
      "source": [
        "#Problem 1\n",
        "x= int(10)\n",
        "y= int(5)\n",
        "\n",
        "if x > y:\n",
        "  print(\"X is larger than Y\")"
      ],
      "metadata": {
        "colab": {
          "base_uri": "https://localhost:8080/"
        },
        "id": "q8CcKhjKnfUg",
        "outputId": "6cb1c9fb-e555-4d2b-ac39-f3edf6cbec2f"
      },
      "execution_count": null,
      "outputs": [
        {
          "output_type": "stream",
          "name": "stdout",
          "text": [
            "X is larger than Y\n"
          ]
        }
      ]
    },
    {
      "cell_type": "code",
      "source": [
        "#Problem 2\n",
        "x = int(10)\n",
        "y = int(100)\n",
        "if x>y:\n",
        "  print(\"X is larger than Y\")\n",
        "else:\n",
        "  print(\"Y is larger than X\")\n",
        "\n"
      ],
      "metadata": {
        "colab": {
          "base_uri": "https://localhost:8080/"
        },
        "id": "DjlejHGUoFJ1",
        "outputId": "5695c88f-64d8-4a0c-b883-0d4b6e0cde7c"
      },
      "execution_count": null,
      "outputs": [
        {
          "output_type": "stream",
          "name": "stdout",
          "text": [
            "Y is larger than X\n"
          ]
        }
      ]
    },
    {
      "cell_type": "code",
      "source": [
        "#Problem 3\n",
        "x = int(10)\n",
        "y = int(100)\n",
        "if x > y:\n",
        "    print(\"X is larger than Y\")\n",
        "elif y > x:\n",
        "    print(\"Y is larger than X\")\n",
        "else:\n",
        "    print(\"X and Y are equal\")\n"
      ],
      "metadata": {
        "colab": {
          "base_uri": "https://localhost:8080/"
        },
        "id": "5Ak2UMjQpXTO",
        "outputId": "bfedc4cc-c1a5-4b52-dbcb-1dcddaa73e4b"
      },
      "execution_count": null,
      "outputs": [
        {
          "output_type": "stream",
          "name": "stdout",
          "text": [
            "Y is larger than X\n"
          ]
        }
      ]
    },
    {
      "cell_type": "code",
      "source": [
        "#Problem 4\n",
        "num = 1\n",
        "while num <= 100:\n",
        "    print(num)\n",
        "    num += 1\n",
        "\n",
        "num = 100\n",
        "while num >= 1:\n",
        "    print(num)\n",
        "    num -= 1\n"
      ],
      "metadata": {
        "id": "E0Lngs2ZpgU3"
      },
      "execution_count": null,
      "outputs": []
    },
    {
      "cell_type": "code",
      "source": [
        "#Problem 5\n",
        "for num in range(1, 101):\n",
        "    print(num)\n",
        "\n",
        "for num in range(100, 0, -1):\n",
        "    print(num)\n"
      ],
      "metadata": {
        "id": "FacTWhS1p231"
      },
      "execution_count": null,
      "outputs": []
    },
    {
      "cell_type": "code",
      "source": [
        "#Problem 6\n",
        "for num in range (10,101,10):\n",
        "  print(num)"
      ],
      "metadata": {
        "id": "bR1eq0z71ZaO"
      },
      "execution_count": null,
      "outputs": []
    },
    {
      "cell_type": "code",
      "source": [
        "#Problem 8\n",
        "info_list = [\"Bob\", \"Smith\", \"1234 Noplace Street\", \"Nowhere\", \"UT\", 84999]\n",
        "for item in info_list:\n",
        "  print(item)"
      ],
      "metadata": {
        "id": "Cd7n0scr1pFl"
      },
      "execution_count": null,
      "outputs": []
    },
    {
      "cell_type": "code",
      "source": [
        "#Problem 9\n",
        "while True:\n",
        "  try:\n",
        "    age = int(input(\"Enter your age:\"))\n",
        "    if 1<= age <= 125:\n",
        "      print(\"Your age is:\", age)\n",
        "      break\n",
        "    else:\n",
        "      print(\"Please enter an integer between 1 and 125.\")\n",
        "  except ValueError:\n",
        "        print(\"Invalid input. Please enter an integer.\")"
      ],
      "metadata": {
        "id": "eX_gNwjX3x5D"
      },
      "execution_count": null,
      "outputs": []
    }
  ]
}