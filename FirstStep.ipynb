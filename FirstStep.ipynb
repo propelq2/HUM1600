{
  "nbformat": 4,
  "nbformat_minor": 0,
  "metadata": {
    "colab": {
      "provenance": []
    },
    "kernelspec": {
      "name": "python3",
      "display_name": "Python 3"
    },
    "language_info": {
      "name": "python"
    }
  },
  "cells": [
    {
      "cell_type": "code",
      "source": [
        "#print(\"Robert Le Blanc\")\n",
        "print(\"1/10/24\")\n",
        "print(\"The difference between disciplinarity and interdisciplinary is disciplina-\")\n",
        "print(\"ry involves one feild of study. It is used for growing your knowledge within one\")\n",
        "print(\"feild of study. While interdisciplinary is multiple feilds of studies.\")\n",
        "print(\"Natural language are languages the developed well, naturally like french\")\n",
        "print(\"and Spanish. Formal languages are languages developed for specific applications like code\")"
      ],
      "metadata": {
        "colab": {
          "base_uri": "https://localhost:8080/"
        },
        "id": "gDr4HBrwJV2S",
        "outputId": "6dd49a0b-412a-4837-f60c-853d5f25c05d"
      },
      "execution_count": null,
      "outputs": [
        {
          "output_type": "stream",
          "name": "stdout",
          "text": [
            "1/10/24\n",
            "The difference between disciplinarity and interdisciplinary is disciplina-\n",
            "ry involves one feild of study. It is used for growing your knowledge within one\n",
            "feild of study. While interdisciplinary is multiple feilds of studies.\n",
            "Natural language are languages the developed well, naturally like french\n",
            "and Spanish. Formal languages are languages developed for specific applications like code\n"
          ]
        }
      ]
    },
    {
      "cell_type": "code",
      "source": [
        "print(\"To\",\"be\", \"or\", \"not\",\"to\",\"be\")"
      ],
      "metadata": {
        "colab": {
          "base_uri": "https://localhost:8080/"
        },
        "id": "mKkdV0N8NkrJ",
        "outputId": "09f680f7-5033-4588-d9b9-2941ffaec696"
      },
      "execution_count": null,
      "outputs": [
        {
          "output_type": "stream",
          "name": "stdout",
          "text": [
            "To be or not to be\n"
          ]
        }
      ]
    },
    {
      "cell_type": "markdown",
      "source": [
        "Concatenate is using two or more strings and combinging them into a singular larger string. The print fuction end means that when you run the progra it is going to print hwat you ave written. The \"Sep\" fuction seperates what you have written with a comma."
      ],
      "metadata": {
        "id": "h0BmCv1CO7QW"
      }
    },
    {
      "cell_type": "code",
      "source": [
        "print(10)\n",
        "print(10+20)\n",
        "print(((10+20)*50/10))"
      ],
      "metadata": {
        "colab": {
          "base_uri": "https://localhost:8080/"
        },
        "id": "xUwMSNrbQlAr",
        "outputId": "a6d0b569-e86f-41bc-d619-1a6be8d38df4"
      },
      "execution_count": null,
      "outputs": [
        {
          "output_type": "stream",
          "name": "stdout",
          "text": [
            "10\n",
            "30\n",
            "150.0\n"
          ]
        }
      ]
    }
  ]
}